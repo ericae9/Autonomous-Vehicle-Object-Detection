{
  "nbformat": 4,
  "nbformat_minor": 0,
  "metadata": {
    "colab": {
      "name": "Fine_Tune_YOLO.ipynb",
      "provenance": [],
      "collapsed_sections": [],
      "machine_shape": "hm",
      "include_colab_link": true
    },
    "kernelspec": {
      "name": "python3",
      "display_name": "Python 3"
    },
    "language_info": {
      "name": "python"
    },
    "accelerator": "GPU"
  },
  "cells": [
    {
      "cell_type": "markdown",
      "metadata": {
        "id": "view-in-github",
        "colab_type": "text"
      },
      "source": [
        "<a href=\"https://colab.research.google.com/github/ericae9/Autonomous-Vehicle-Object-Detection/blob/main/Fine_Tune_YOLO.ipynb\" target=\"_parent\"><img src=\"https://colab.research.google.com/assets/colab-badge.svg\" alt=\"Open In Colab\"/></a>"
      ]
    },
    {
      "cell_type": "markdown",
      "metadata": {
        "id": "FN2kr_Z2KGK7"
      },
      "source": [
        "This notebook contains the code to fine tune YOLOv4. Before running the cells below, clone the [darknet repo for YOLOv4](https://github.com/AlexeyAB/darknet) and follow steps 0 through 7 in the [\"How to train\" section of the README](https://github.com/AlexeyAB/darknet#how-to-train-to-detect-your-custom-objects)."
      ]
    },
    {
      "cell_type": "markdown",
      "metadata": {
        "id": "mG2gimaGKt2X"
      },
      "source": [
        "Mount the Google Drive"
      ]
    },
    {
      "cell_type": "code",
      "metadata": {
        "id": "45v6Ekoy02z0"
      },
      "source": [
        "from google.colab import drive\n",
        "drive.mount('/content/drive')"
      ],
      "execution_count": null,
      "outputs": []
    },
    {
      "cell_type": "code",
      "metadata": {
        "id": "7m1AFJ0b2Ic7"
      },
      "source": [
        "import os\n",
        "\n",
        "# Edit the file path below to go to the folder containing the darknet (YOLOv4) repo.\n",
        "BASE_PATH = '/content/drive/My Drive/CV_Project/darknet/'\n",
        "if not os.path.exists(BASE_PATH):\n",
        "    os.makedirs(BASE_PATH)\n",
        "\n",
        "!pwd\n",
        "!ls\n",
        "os.chdir(BASE_PATH)\n",
        "!pwd\n",
        "!ls"
      ],
      "execution_count": null,
      "outputs": []
    },
    {
      "cell_type": "code",
      "metadata": {
        "id": "8hHx14K436_I"
      },
      "source": [
        "# Create a symbolic link so you can reference the path to the darknet repo as\n",
        "# simply /mydrive. Edit the file path below to go to the folder containing the\n",
        "# darknet repo.\n",
        "!ln -s '/content/drive/My Drive/CV_Project/darknet/' /mydrive\n",
        "!ls /mydrive"
      ],
      "execution_count": null,
      "outputs": []
    },
    {
      "cell_type": "code",
      "metadata": {
        "id": "UoBTgNVJ1ghD"
      },
      "source": [
        "%%shell\n",
        "\n",
        "make"
      ],
      "execution_count": null,
      "outputs": []
    },
    {
      "cell_type": "code",
      "metadata": {
        "id": "WeLm0GTmqfp5"
      },
      "source": [
        "!chmod 755 darknet"
      ],
      "execution_count": null,
      "outputs": []
    },
    {
      "cell_type": "markdown",
      "metadata": {
        "id": "mhw0urmXyiUY"
      },
      "source": [
        "Fine tune YOLO from the original pre-trained YOLO weights"
      ]
    },
    {
      "cell_type": "code",
      "metadata": {
        "id": "r4sS8bX-yjzD"
      },
      "source": [
        "# Edit the file paths below to go to the location of obj.data, yolo-obj.cfg,\n",
        "# and the pre-trained YOLO weights (yolov4.conv.137).\n",
        "\n",
        "%%shell\n",
        "\n",
        "./darknet detector train /mydrive/build/darknet/x64/data/obj.data /mydrive/cfg/yolo-obj.cfg /mydrive/build/darknet/x64/yolov4.conv.137 -map -dont_show"
      ],
      "execution_count": null,
      "outputs": []
    },
    {
      "cell_type": "markdown",
      "metadata": {
        "id": "is6f1Drny9LL"
      },
      "source": [
        "Start fine tuning YOLO from where we last left off, loading in the last saved weights"
      ]
    },
    {
      "cell_type": "code",
      "metadata": {
        "id": "mICS6StCzB9D"
      },
      "source": [
        "# Edit the file paths below to go to the location of obj.data, yolo-obj.cfg,\n",
        "# and yolo-obj_last.weights.\n",
        "\n",
        "%%shell\n",
        "\n",
        "./darknet detector train /mydrive/build/darknet/x64/data/obj.data /mydrive/cfg/yolo-obj.cfg /mydrive/build/darknet/x64/backup/yolo-obj_last.weights -dont_show -map"
      ],
      "execution_count": null,
      "outputs": []
    },
    {
      "cell_type": "markdown",
      "metadata": {
        "id": "nQSp1gCaykAM"
      },
      "source": [
        "Evaluate YOLO on the test set. Before running the cell below, edit the batch size and subdivisions in yolo-obj.cfg for the test set, and in obj.data, set valid to be the location for test.txt, which contains the locations of the images in the test set."
      ]
    },
    {
      "cell_type": "code",
      "metadata": {
        "id": "MSx0XkopSJYn"
      },
      "source": [
        "# Edit the file paths below to go to obj.data, yolo-obj.cfg, and yolo-obj_best.weights\n",
        "# (the saved weights that yielded the highest mAP).\n",
        "\n",
        "%%shell\n",
        "\n",
        "./darknet detector map /mydrive/build/darknet/x64/data/obj.data /mydrive/cfg/yolo-obj.cfg /mydrive/build/darknet/x64/backup/yolo-obj_best.weights"
      ],
      "execution_count": null,
      "outputs": []
    }
  ]
}